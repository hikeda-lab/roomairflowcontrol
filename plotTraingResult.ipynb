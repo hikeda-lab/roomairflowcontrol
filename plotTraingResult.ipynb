{
 "cells": [
  {
   "cell_type": "code",
   "execution_count": 6,
   "id": "choice-logan",
   "metadata": {},
   "outputs": [],
   "source": [
    "import numpy as np\n",
    "import matplotlib.pyplot as plt"
   ]
  },
  {
   "cell_type": "code",
   "execution_count": 7,
   "id": "prostate-behalf",
   "metadata": {},
   "outputs": [],
   "source": [
    "Temperature3800 = np.load(\"./result/result0007/Temperature3800.npy\")\n",
    "Temperature0200 = np.load(\"./result/result0007/Temperature0200.npy\")"
   ]
  },
  {
   "cell_type": "code",
   "execution_count": 8,
   "id": "through-writer",
   "metadata": {},
   "outputs": [
    {
     "data": {
      "text/plain": [
       "0.9203468777742322"
      ]
     },
     "execution_count": 8,
     "metadata": {},
     "output_type": "execute_result"
    }
   ],
   "source": [
    "Temperature3800[1,1,3]"
   ]
  },
  {
   "cell_type": "code",
   "execution_count": 9,
   "id": "interested-kidney",
   "metadata": {},
   "outputs": [
    {
     "data": {
      "text/plain": [
       "[<matplotlib.lines.Line2D at 0x208c673df70>]"
      ]
     },
     "execution_count": 9,
     "metadata": {},
     "output_type": "execute_result"
    },
    {
     "data": {
      "image/png": "[encoded data removed]",
      "text/plain": [
       "<Figure size 432x288 with 1 Axes>"
      ]
     },
     "metadata": {
      "needs_background": "light"
     },
     "output_type": "display_data"
    }
   ],
   "source": [
    "plt.plot(Temperature0200.ravel())\n",
    "plt.plot(Temperature3800.ravel())"
   ]
  },
  {
   "cell_type": "code",
   "execution_count": 15,
   "id": "facial-newport",
   "metadata": {},
   "outputs": [
    {
     "name": "stdout",
     "output_type": "stream",
     "text": [
      "19.04566262024702\n",
      "43.21373082396907\n"
     ]
    }
   ],
   "source": [
    "print(1/np.std(Temperature3800))\n",
    "print(1/np.std(Temperature0200))"
   ]
  },
  {
   "cell_type": "code",
   "execution_count": 12,
   "id": "becoming-simpson",
   "metadata": {},
   "outputs": [
    {
     "name": "stdout",
     "output_type": "stream",
     "text": [
      "Variable          Type       Data/Info\n",
      "--------------------------------------\n",
      "Temperature0200   ndarray    32x20x32: 20480 elems, type `float64`, 163840 bytes (160.0 kb)\n",
      "Temperature3800   ndarray    32x20x32: 20480 elems, type `float64`, 163840 bytes (160.0 kb)\n",
      "np                module     <module 'numpy' from 'C:\\<...>ges\\\\numpy\\\\__init__.py'>\n",
      "plt               module     <module 'matplotlib.pyplo<...>\\\\matplotlib\\\\pyplot.py'>\n"
     ]
    }
   ],
   "source": [
    "%whos"
   ]
  },
  {
   "cell_type": "code",
   "execution_count": null,
   "id": "6fbadcaa-4b44-47c8-a302-bb71df82e350",
   "metadata": {},
   "outputs": [],
   "source": []
  }
 ],
 "metadata": {
  "kernelspec": {
   "display_name": "Python 3",
   "language": "python",
   "name": "python3"
  },
  "language_info": {
   "codemirror_mode": {
    "name": "ipython",
    "version": 3
   },
   "file_extension": ".py",
   "mimetype": "text/x-python",
   "name": "python",
   "nbconvert_exporter": "python",
   "pygments_lexer": "ipython3",
   "version": "3.8.10"
  }
 },
 "nbformat": 4,
 "nbformat_minor": 5
}
